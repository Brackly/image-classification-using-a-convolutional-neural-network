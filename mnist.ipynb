{
  "nbformat": 4,
  "nbformat_minor": 0,
  "metadata": {
    "colab": {
      "provenance": [],
      "authorship_tag": "ABX9TyNokmYjOHpb1vvagbxZD9mK",
      "include_colab_link": true
    },
    "kernelspec": {
      "name": "python3",
      "display_name": "Python 3"
    },
    "language_info": {
      "name": "python"
    }
  },
  "cells": [
    {
      "cell_type": "markdown",
      "metadata": {
        "id": "view-in-github",
        "colab_type": "text"
      },
      "source": [
        "<a href=\"https://colab.research.google.com/github/Brackly/image-classification-using-a-convolutional-neural-network/blob/main/mnist.ipynb\" target=\"_parent\"><img src=\"https://colab.research.google.com/assets/colab-badge.svg\" alt=\"Open In Colab\"/></a>"
      ]
    },
    {
      "cell_type": "markdown",
      "source": [
        "**Image classification using the mnist dataset and a simple convolution neural network**"
      ],
      "metadata": {
        "id": "XzyAGttOtAyA"
      }
    },
    {
      "cell_type": "markdown",
      "source": [
        "*importing the relevant libraries*"
      ],
      "metadata": {
        "id": "6h_HPQHqs5kZ"
      }
    },
    {
      "cell_type": "code",
      "execution_count": 36,
      "metadata": {
        "id": "J-UulVIx4WO8"
      },
      "outputs": [],
      "source": [
        "import tensorflow as tf\n",
        "from tensorflow import keras\n",
        "from keras.datasets import mnist\n",
        "from keras.layers import Dense,Activation,Conv2D,MaxPooling2D,Flatten,Dropout\n",
        "from keras.models import Sequential\n",
        "from keras.optimizers import Adam\n"
      ]
    },
    {
      "cell_type": "markdown",
      "source": [
        "*Loading the data into train and test sets*"
      ],
      "metadata": {
        "id": "_i4F3fDrtM5H"
      }
    },
    {
      "cell_type": "code",
      "source": [
        "(x_train,y_train),(x_test,ytest)=mnist.load_data()\n"
      ],
      "metadata": {
        "colab": {
          "base_uri": "https://localhost:8080/"
        },
        "id": "sJ9SXbPo5ATr",
        "outputId": "a8537948-4eec-49cc-e89e-429b3d3fa26f"
      },
      "execution_count": 3,
      "outputs": [
        {
          "output_type": "stream",
          "name": "stdout",
          "text": [
            "Downloading data from https://storage.googleapis.com/tensorflow/tf-keras-datasets/mnist.npz\n",
            "11490434/11490434 [==============================] - 0s 0us/step\n"
          ]
        }
      ]
    },
    {
      "cell_type": "markdown",
      "source": [
        "*Normalizing the Data*"
      ],
      "metadata": {
        "id": "0mlttkUWsd8f"
      }
    },
    {
      "cell_type": "code",
      "source": [
        "x_train=x_train/255\n",
        "x_test=x_test/255"
      ],
      "metadata": {
        "id": "FzAXhQKE5bFV"
      },
      "execution_count": 4,
      "outputs": []
    },
    {
      "cell_type": "markdown",
      "source": [
        "*Bulding a CNN*"
      ],
      "metadata": {
        "id": "2jWOifPwsjG-"
      }
    },
    {
      "cell_type": "code",
      "source": [
        "from keras.engine import input_layer\n",
        "model=Sequential([\n",
        "    Conv2D(filters=64,kernel_size=(3,3),activation='relu',padding='valid',input_shape=(28,28,1)),\n",
        "    MaxPooling2D(pool_size=(2,2),strides=2),\n",
        "    Conv2D(filters=128,kernel_size=(3,3),activation='relu'),\n",
        "    MaxPooling2D(pool_size=(2,2),strides=2),\n",
        "    Conv2D(filters=64,kernel_size=(3,3),activation='relu'),\n",
        "    MaxPooling2D(pool_size=(2,2),strides=2),\n",
        "    Flatten(),\n",
        "    Dropout(0.5),\n",
        "    Dense(units=64,activation='relu',),\n",
        "    Dense(units=10,activation='softmax')\n",
        "])\n"
      ],
      "metadata": {
        "id": "et0xL38s6V6Q"
      },
      "execution_count": 37,
      "outputs": []
    },
    {
      "cell_type": "markdown",
      "source": [
        "*Compiling the Model*"
      ],
      "metadata": {
        "id": "gWBZFTnXs0Mb"
      }
    },
    {
      "cell_type": "code",
      "source": [
        "model.compile(optimizer=Adam(lr=0.001),loss=keras.losses.SparseCategoricalCrossentropy(),metrics=['accuracy'])"
      ],
      "metadata": {
        "colab": {
          "base_uri": "https://localhost:8080/"
        },
        "id": "oeUzFPga95-h",
        "outputId": "82906d70-6aba-4f42-dfb0-674ca3f590eb"
      },
      "execution_count": 38,
      "outputs": [
        {
          "output_type": "stream",
          "name": "stderr",
          "text": [
            "/usr/local/lib/python3.8/dist-packages/keras/optimizers/optimizer_v2/adam.py:110: UserWarning: The `lr` argument is deprecated, use `learning_rate` instead.\n",
            "  super(Adam, self).__init__(name, **kwargs)\n"
          ]
        }
      ]
    },
    {
      "cell_type": "markdown",
      "source": [
        "*Visualizing the layers of the model*"
      ],
      "metadata": {
        "id": "nG58AFiIuD7c"
      }
    },
    {
      "cell_type": "code",
      "source": [
        "model.summary()\n"
      ],
      "metadata": {
        "colab": {
          "base_uri": "https://localhost:8080/"
        },
        "id": "3ErlXr0s-4t9",
        "outputId": "7a3ef64c-4cae-4590-86cc-48a2c0cda932"
      },
      "execution_count": 39,
      "outputs": [
        {
          "output_type": "stream",
          "name": "stdout",
          "text": [
            "Model: \"sequential_6\"\n",
            "_________________________________________________________________\n",
            " Layer (type)                Output Shape              Param #   \n",
            "=================================================================\n",
            " conv2d_3 (Conv2D)           (None, 26, 26, 64)        640       \n",
            "                                                                 \n",
            " max_pooling2d_3 (MaxPooling  (None, 13, 13, 64)       0         \n",
            " 2D)                                                             \n",
            "                                                                 \n",
            " conv2d_4 (Conv2D)           (None, 11, 11, 128)       73856     \n",
            "                                                                 \n",
            " max_pooling2d_4 (MaxPooling  (None, 5, 5, 128)        0         \n",
            " 2D)                                                             \n",
            "                                                                 \n",
            " conv2d_5 (Conv2D)           (None, 3, 3, 64)          73792     \n",
            "                                                                 \n",
            " max_pooling2d_5 (MaxPooling  (None, 1, 1, 64)         0         \n",
            " 2D)                                                             \n",
            "                                                                 \n",
            " flatten_1 (Flatten)         (None, 64)                0         \n",
            "                                                                 \n",
            " dropout (Dropout)           (None, 64)                0         \n",
            "                                                                 \n",
            " dense_24 (Dense)            (None, 64)                4160      \n",
            "                                                                 \n",
            " dense_25 (Dense)            (None, 10)                650       \n",
            "                                                                 \n",
            "=================================================================\n",
            "Total params: 153,098\n",
            "Trainable params: 153,098\n",
            "Non-trainable params: 0\n",
            "_________________________________________________________________\n"
          ]
        }
      ]
    },
    {
      "cell_type": "markdown",
      "source": [
        "*Training the model*"
      ],
      "metadata": {
        "id": "TiFg1aRAuLKK"
      }
    },
    {
      "cell_type": "code",
      "source": [
        "model.fit(x=x_train,y=y_train,batch_size=10,epochs=5,verbose=2)"
      ],
      "metadata": {
        "colab": {
          "base_uri": "https://localhost:8080/"
        },
        "id": "-XQzXa6-_BUN",
        "outputId": "6ba4e151-389f-487e-820f-30de7f4230ca"
      },
      "execution_count": 40,
      "outputs": [
        {
          "output_type": "stream",
          "name": "stdout",
          "text": [
            "Epoch 1/5\n",
            "6000/6000 - 154s - loss: 0.3653 - accuracy: 0.8848 - 154s/epoch - 26ms/step\n",
            "Epoch 2/5\n",
            "6000/6000 - 153s - loss: 0.1572 - accuracy: 0.9540 - 153s/epoch - 25ms/step\n",
            "Epoch 3/5\n",
            "6000/6000 - 154s - loss: 0.1177 - accuracy: 0.9653 - 154s/epoch - 26ms/step\n",
            "Epoch 4/5\n",
            "6000/6000 - 154s - loss: 0.1020 - accuracy: 0.9697 - 154s/epoch - 26ms/step\n",
            "Epoch 5/5\n",
            "6000/6000 - 155s - loss: 0.0899 - accuracy: 0.9729 - 155s/epoch - 26ms/step\n"
          ]
        },
        {
          "output_type": "execute_result",
          "data": {
            "text/plain": [
              "<keras.callbacks.History at 0x7f4e2e379b20>"
            ]
          },
          "metadata": {},
          "execution_count": 40
        }
      ]
    },
    {
      "cell_type": "markdown",
      "source": [
        "*Evaluating the model using the test set*"
      ],
      "metadata": {
        "id": "AmV-w9-rtYhz"
      }
    },
    {
      "cell_type": "code",
      "source": [
        "accuracy=model.evaluate(x=x_test,y=ytest,batch_size=10,verbose=2)\n"
      ],
      "metadata": {
        "colab": {
          "base_uri": "https://localhost:8080/"
        },
        "id": "3S0gMqteJpoY",
        "outputId": "f97b456a-7649-45e9-dd80-7c8f87943681"
      },
      "execution_count": 43,
      "outputs": [
        {
          "output_type": "stream",
          "name": "stdout",
          "text": [
            "1000/1000 - 8s - loss: 0.0477 - accuracy: 0.9859 - 8s/epoch - 8ms/step\n",
            "Model accuracy on the test set = 0.04766683652997017\n"
          ]
        }
      ]
    },
    {
      "cell_type": "code",
      "source": [
        "print('Model accuracy on the test set =',accuracy[1])\n",
        "print('Loss on the test set =',accuracy[0])"
      ],
      "metadata": {
        "colab": {
          "base_uri": "https://localhost:8080/"
        },
        "id": "cb-_b-RFt66y",
        "outputId": "158315ec-6a9f-490c-acda-6ea02c5dd326"
      },
      "execution_count": 45,
      "outputs": [
        {
          "output_type": "stream",
          "name": "stdout",
          "text": [
            "Model accuracy on the test set = 0.9858999848365784\n",
            "Loss on the test set = 0.04766683652997017\n"
          ]
        }
      ]
    }
  ]
}